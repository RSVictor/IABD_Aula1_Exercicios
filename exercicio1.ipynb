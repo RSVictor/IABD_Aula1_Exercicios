{
 "cells": [
  {
   "cell_type": "code",
   "execution_count": 1,
   "metadata": {},
   "outputs": [],
   "source": [
    "import pandas as pd #importa biblioteca pandas"
   ]
  },
  {
   "cell_type": "code",
   "execution_count": 2,
   "metadata": {},
   "outputs": [
    {
     "name": "stdout",
     "output_type": "stream",
     "text": [
      "Requirement already satisfied: pandas in c:\\users\\dsadm\\appdata\\local\\programs\\python\\python311\\lib\\site-packages (2.0.3)\n",
      "Requirement already satisfied: python-dateutil>=2.8.2 in c:\\users\\dsadm\\appdata\\local\\programs\\python\\python311\\lib\\site-packages (from pandas) (2.8.2)\n",
      "Requirement already satisfied: pytz>=2020.1 in c:\\users\\dsadm\\appdata\\local\\programs\\python\\python311\\lib\\site-packages (from pandas) (2023.3)\n",
      "Requirement already satisfied: tzdata>=2022.1 in c:\\users\\dsadm\\appdata\\local\\programs\\python\\python311\\lib\\site-packages (from pandas) (2023.3)\n",
      "Requirement already satisfied: numpy>=1.21.0 in c:\\users\\dsadm\\appdata\\local\\programs\\python\\python311\\lib\\site-packages (from pandas) (1.25.1)\n",
      "Requirement already satisfied: six>=1.5 in c:\\users\\dsadm\\appdata\\local\\programs\\python\\python311\\lib\\site-packages (from python-dateutil>=2.8.2->pandas) (1.16.0)\n",
      "Note: you may need to restart the kernel to use updated packages.\n"
     ]
    },
    {
     "name": "stderr",
     "output_type": "stream",
     "text": [
      "\n",
      "[notice] A new release of pip is available: 24.0 -> 24.2\n",
      "[notice] To update, run: python.exe -m pip install --upgrade pip\n"
     ]
    }
   ],
   "source": [
    "pip install pandas"
   ]
  },
  {
   "cell_type": "code",
   "execution_count": 5,
   "metadata": {},
   "outputs": [],
   "source": [
    "                                         #Exercício 1\n",
    "Dicionario_exe1= {\n",
    " \"Nomes\":[\"Alice\",\"Julia\",\"Bruna\",\"Daniel\",\"Filipe\",\"Silvio\"],\n",
    " \"Idade\":[19,22,28,34,28,48],\n",
    " \"Profissões\":[\"Direito\",\"Engenharia\",\"Enfermagem\",\"Engenheiro Civil\",\"Cientista da Computação\",\"Engenheiro eletrônico\"],\n",
    " \"ID\":[1,2,3,4,5,6]\n",
    "}\n",
    "Labels=[\"1ª linha\",\"2ª linha\",\"3ª linha\",\"4ª linha\",\"5ª linha\",\"6ª linha\"]"
   ]
  },
  {
   "cell_type": "code",
   "execution_count": 6,
   "metadata": {},
   "outputs": [],
   "source": [
    "dados= pd.DataFrame(Dicionario_exe1, index=Labels)"
   ]
  },
  {
   "cell_type": "code",
   "execution_count": 7,
   "metadata": {},
   "outputs": [
    {
     "data": {
      "text/html": [
       "<div>\n",
       "<style scoped>\n",
       "    .dataframe tbody tr th:only-of-type {\n",
       "        vertical-align: middle;\n",
       "    }\n",
       "\n",
       "    .dataframe tbody tr th {\n",
       "        vertical-align: top;\n",
       "    }\n",
       "\n",
       "    .dataframe thead th {\n",
       "        text-align: right;\n",
       "    }\n",
       "</style>\n",
       "<table border=\"1\" class=\"dataframe\">\n",
       "  <thead>\n",
       "    <tr style=\"text-align: right;\">\n",
       "      <th></th>\n",
       "      <th>Nomes</th>\n",
       "      <th>Idade</th>\n",
       "      <th>Profissões</th>\n",
       "      <th>ID</th>\n",
       "    </tr>\n",
       "  </thead>\n",
       "  <tbody>\n",
       "    <tr>\n",
       "      <th>1ª linha</th>\n",
       "      <td>Alice</td>\n",
       "      <td>19</td>\n",
       "      <td>Direito</td>\n",
       "      <td>1</td>\n",
       "    </tr>\n",
       "    <tr>\n",
       "      <th>2ª linha</th>\n",
       "      <td>Julia</td>\n",
       "      <td>22</td>\n",
       "      <td>Engenharia</td>\n",
       "      <td>2</td>\n",
       "    </tr>\n",
       "    <tr>\n",
       "      <th>3ª linha</th>\n",
       "      <td>Bruna</td>\n",
       "      <td>28</td>\n",
       "      <td>Enfermagem</td>\n",
       "      <td>3</td>\n",
       "    </tr>\n",
       "    <tr>\n",
       "      <th>4ª linha</th>\n",
       "      <td>Daniel</td>\n",
       "      <td>34</td>\n",
       "      <td>Engenheiro Civil</td>\n",
       "      <td>4</td>\n",
       "    </tr>\n",
       "    <tr>\n",
       "      <th>5ª linha</th>\n",
       "      <td>Filipe</td>\n",
       "      <td>28</td>\n",
       "      <td>Cientista da Computação</td>\n",
       "      <td>5</td>\n",
       "    </tr>\n",
       "    <tr>\n",
       "      <th>6ª linha</th>\n",
       "      <td>Silvio</td>\n",
       "      <td>48</td>\n",
       "      <td>Engenheiro eletrônico</td>\n",
       "      <td>6</td>\n",
       "    </tr>\n",
       "  </tbody>\n",
       "</table>\n",
       "</div>"
      ],
      "text/plain": [
       "           Nomes  Idade               Profissões  ID\n",
       "1ª linha   Alice     19                  Direito   1\n",
       "2ª linha   Julia     22               Engenharia   2\n",
       "3ª linha   Bruna     28               Enfermagem   3\n",
       "4ª linha  Daniel     34         Engenheiro Civil   4\n",
       "5ª linha  Filipe     28  Cientista da Computação   5\n",
       "6ª linha  Silvio     48    Engenheiro eletrônico   6"
      ]
     },
     "execution_count": 7,
     "metadata": {},
     "output_type": "execute_result"
    }
   ],
   "source": [
    "dados.head(6)"
   ]
  },
  {
   "cell_type": "code",
   "execution_count": 8,
   "metadata": {},
   "outputs": [],
   "source": [
    "                                        #Exercício 2\n",
    "Dicionario_exe2={\n",
    "    \"Produtos\":[50,30,40,100],\n",
    "    \"Setores\":[1,2,3,4]\n",
    "}\n",
    "Labels_1=[\"1ª linha\",\"2ª linha\",\"3ª linha\",\"4ª linha\"]"
   ]
  },
  {
   "cell_type": "code",
   "execution_count": 9,
   "metadata": {},
   "outputs": [],
   "source": [
    "dados2= pd.DataFrame(Dicionario_exe2,index=Labels_1)"
   ]
  },
  {
   "cell_type": "code",
   "execution_count": 10,
   "metadata": {},
   "outputs": [
    {
     "data": {
      "text/html": [
       "<div>\n",
       "<style scoped>\n",
       "    .dataframe tbody tr th:only-of-type {\n",
       "        vertical-align: middle;\n",
       "    }\n",
       "\n",
       "    .dataframe tbody tr th {\n",
       "        vertical-align: top;\n",
       "    }\n",
       "\n",
       "    .dataframe thead th {\n",
       "        text-align: right;\n",
       "    }\n",
       "</style>\n",
       "<table border=\"1\" class=\"dataframe\">\n",
       "  <thead>\n",
       "    <tr style=\"text-align: right;\">\n",
       "      <th></th>\n",
       "      <th>Produtos</th>\n",
       "      <th>Setores</th>\n",
       "    </tr>\n",
       "  </thead>\n",
       "  <tbody>\n",
       "    <tr>\n",
       "      <th>1ª linha</th>\n",
       "      <td>50</td>\n",
       "      <td>1</td>\n",
       "    </tr>\n",
       "    <tr>\n",
       "      <th>2ª linha</th>\n",
       "      <td>30</td>\n",
       "      <td>2</td>\n",
       "    </tr>\n",
       "    <tr>\n",
       "      <th>3ª linha</th>\n",
       "      <td>40</td>\n",
       "      <td>3</td>\n",
       "    </tr>\n",
       "    <tr>\n",
       "      <th>4ª linha</th>\n",
       "      <td>100</td>\n",
       "      <td>4</td>\n",
       "    </tr>\n",
       "  </tbody>\n",
       "</table>\n",
       "</div>"
      ],
      "text/plain": [
       "          Produtos  Setores\n",
       "1ª linha        50        1\n",
       "2ª linha        30        2\n",
       "3ª linha        40        3\n",
       "4ª linha       100        4"
      ]
     },
     "execution_count": 10,
     "metadata": {},
     "output_type": "execute_result"
    }
   ],
   "source": [
    "dados2.head()"
   ]
  },
  {
   "cell_type": "code",
   "execution_count": 16,
   "metadata": {},
   "outputs": [],
   "source": [
    "                                     #Exercício 3\n",
    "Dicionario_exe3 ={\n",
    "    \"id\":[1,2,3,4],\n",
    "    \"Nome\":[\"Ana\",\"Pedro\",\"Maria\",\"João\"],\n",
    "    \"Setores\":[\"RH\",\"Vendas\",\"Administrativo\",\"Produção\"],\n",
    "    'Chaves':['AA','BB','CC','DD']\n",
    "}\n",
    "Dicionario_exe3_1={\n",
    "    \"Id\":[1,2,3,4],\n",
    "    \"Salários\":[3000,2800,3200,2500],\n",
    "    'Chaves':['AA','BB','CC','DD']\n",
    "}\n",
    "\n",
    "Labels_2 =[\"1ª linha\",\"2ª linha\",\"3ª linha\",\"4ª linha\"]\n",
    "Labels_3 =[\"5ª linha\",\"6ª linha\",\"7ª linha\",\"8ª linha\"]"
   ]
  },
  {
   "cell_type": "code",
   "execution_count": 18,
   "metadata": {},
   "outputs": [],
   "source": [
    "df1 = pd.DataFrame(Dicionario_exe3, index=Labels_2)\n",
    "df2 = pd.DataFrame(Dicionario_exe3_1, index=Labels_3)"
   ]
  },
  {
   "cell_type": "code",
   "execution_count": 21,
   "metadata": {},
   "outputs": [],
   "source": [
    "df_juntos = pd.merge(df1,df2,how='inner',on='Chaves')"
   ]
  },
  {
   "cell_type": "code",
   "execution_count": 22,
   "metadata": {},
   "outputs": [
    {
     "data": {
      "text/html": [
       "<div>\n",
       "<style scoped>\n",
       "    .dataframe tbody tr th:only-of-type {\n",
       "        vertical-align: middle;\n",
       "    }\n",
       "\n",
       "    .dataframe tbody tr th {\n",
       "        vertical-align: top;\n",
       "    }\n",
       "\n",
       "    .dataframe thead th {\n",
       "        text-align: right;\n",
       "    }\n",
       "</style>\n",
       "<table border=\"1\" class=\"dataframe\">\n",
       "  <thead>\n",
       "    <tr style=\"text-align: right;\">\n",
       "      <th></th>\n",
       "      <th>id</th>\n",
       "      <th>Nome</th>\n",
       "      <th>Setores</th>\n",
       "      <th>Chaves</th>\n",
       "      <th>Id</th>\n",
       "      <th>Salários</th>\n",
       "    </tr>\n",
       "  </thead>\n",
       "  <tbody>\n",
       "    <tr>\n",
       "      <th>0</th>\n",
       "      <td>1</td>\n",
       "      <td>Ana</td>\n",
       "      <td>RH</td>\n",
       "      <td>AA</td>\n",
       "      <td>1</td>\n",
       "      <td>3000</td>\n",
       "    </tr>\n",
       "    <tr>\n",
       "      <th>1</th>\n",
       "      <td>2</td>\n",
       "      <td>Pedro</td>\n",
       "      <td>Vendas</td>\n",
       "      <td>BB</td>\n",
       "      <td>2</td>\n",
       "      <td>2800</td>\n",
       "    </tr>\n",
       "    <tr>\n",
       "      <th>2</th>\n",
       "      <td>3</td>\n",
       "      <td>Maria</td>\n",
       "      <td>Administrativo</td>\n",
       "      <td>CC</td>\n",
       "      <td>3</td>\n",
       "      <td>3200</td>\n",
       "    </tr>\n",
       "    <tr>\n",
       "      <th>3</th>\n",
       "      <td>4</td>\n",
       "      <td>João</td>\n",
       "      <td>Produção</td>\n",
       "      <td>DD</td>\n",
       "      <td>4</td>\n",
       "      <td>2500</td>\n",
       "    </tr>\n",
       "  </tbody>\n",
       "</table>\n",
       "</div>"
      ],
      "text/plain": [
       "   id   Nome         Setores Chaves  Id  Salários\n",
       "0   1    Ana              RH     AA   1      3000\n",
       "1   2  Pedro          Vendas     BB   2      2800\n",
       "2   3  Maria  Administrativo     CC   3      3200\n",
       "3   4   João        Produção     DD   4      2500"
      ]
     },
     "execution_count": 22,
     "metadata": {},
     "output_type": "execute_result"
    }
   ],
   "source": [
    "df_juntos.head()"
   ]
  },
  {
   "cell_type": "code",
   "execution_count": 3,
   "metadata": {},
   "outputs": [],
   "source": [
    "                            #Exercício 4\n",
    "empresa1={\n",
    "    \"Data\":[\"2023-01-01\",\"2023-01-02\",\"2023-01-03\"],\n",
    "    \"Produto\":[\"Item A\",\"Item B\",\"Item A\"],\n",
    "    \"Quantidade\":[10,5,8],\n",
    "    \"Valor\":[100.00,50.00,80.00]\n",
    "}\n",
    "empresa2={\n",
    "    \"Data\":[\"2023-02-01\",\"2023-02-02\",\"2023-02-03\"],\n",
    "    \"Produto\":[\"Item C\",\"Item B\",\"Item C\"],\n",
    "    \"Quantidade\":[12,6,3],\n",
    "    \"Valor\":[120.00,60.00,30.00]\n",
    "}\n",
    "\n",
    "Labels_4=[\"1ª linha\",\"2ª linha\",\"3ª linha\"]\n",
    "Labels_5=[\"4ª linha\",\"5ª linha\",\"6ª linha\"]\n"
   ]
  },
  {
   "cell_type": "code",
   "execution_count": 7,
   "metadata": {},
   "outputs": [],
   "source": [
    "dfE1 = pd.DataFrame(empresa1, index=Labels_4)\n",
    "dfE2 = pd.DataFrame(empresa2, index=Labels_5)"
   ]
  },
  {
   "cell_type": "code",
   "execution_count": 8,
   "metadata": {},
   "outputs": [
    {
     "name": "stdout",
     "output_type": "stream",
     "text": [
      "                Data Produto  Quantidade  Valor\n",
      "1ª linha  2023-01-01  Item A          10  100.0\n",
      "2ª linha  2023-01-02  Item B           5   50.0\n",
      "3ª linha  2023-01-03  Item A           8   80.0\n",
      "                Data Produto  Quantidade  Valor\n",
      "4ª linha  2023-02-01  Item C          12  120.0\n",
      "5ª linha  2023-02-02  Item B           6   60.0\n",
      "6ª linha  2023-02-03  Item C           3   30.0\n"
     ]
    }
   ],
   "source": [
    "print(dfE1.head())\n",
    "print(dfE2.head())"
   ]
  }
 ],
 "metadata": {
  "kernelspec": {
   "display_name": "Python 3",
   "language": "python",
   "name": "python3"
  },
  "language_info": {
   "codemirror_mode": {
    "name": "ipython",
    "version": 3
   },
   "file_extension": ".py",
   "mimetype": "text/x-python",
   "name": "python",
   "nbconvert_exporter": "python",
   "pygments_lexer": "ipython3",
   "version": "3.11.8"
  }
 },
 "nbformat": 4,
 "nbformat_minor": 2
}
